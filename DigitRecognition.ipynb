{
  "nbformat": 4,
  "nbformat_minor": 0,
  "metadata": {
    "colab": {
      "provenance": []
    },
    "kernelspec": {
      "name": "python3",
      "display_name": "Python 3"
    },
    "language_info": {
      "name": "python"
    }
  },
  "cells": [
    {
      "cell_type": "markdown",
      "source": [
        "# *Importing Libraries*"
      ],
      "metadata": {
        "id": "W70XOGxDTuJk"
      }
    },
    {
      "cell_type": "code",
      "source": [
        "import numpy as np\n",
        "import matplotlib.pyplot as plt\n",
        "import tensorflow as tf\n",
        "from keras.models import Sequential\n",
        "from tensorflow.keras.layers import Dense,Dropout,Activation,Flatten,Conv2D,MaxPooling2D"
      ],
      "metadata": {
        "id": "ez98__MaT1nG"
      },
      "execution_count": 1,
      "outputs": []
    },
    {
      "cell_type": "code",
      "source": [],
      "metadata": {
        "id": "3sY_C6ezT6Wu"
      },
      "execution_count": null,
      "outputs": []
    },
    {
      "cell_type": "markdown",
      "source": [
        "# *Loading the dataset*"
      ],
      "metadata": {
        "id": "I9eUVTWWT-C0"
      }
    },
    {
      "cell_type": "code",
      "source": [
        "mnist=tf.keras.datasets.mnist"
      ],
      "metadata": {
        "id": "xcgAVT0NUCGD"
      },
      "execution_count": 2,
      "outputs": []
    },
    {
      "cell_type": "code",
      "source": [
        "(x_train,y_train),(x_test,y_test)=mnist.load_data()"
      ],
      "metadata": {
        "colab": {
          "base_uri": "https://localhost:8080/"
        },
        "id": "kBk6zCXkU3EZ",
        "outputId": "93ee651d-bccb-4b37-b5b1-5b07630417fc"
      },
      "execution_count": 3,
      "outputs": [
        {
          "output_type": "stream",
          "name": "stdout",
          "text": [
            "Downloading data from https://storage.googleapis.com/tensorflow/tf-keras-datasets/mnist.npz\n",
            "11490434/11490434 [==============================] - 0s 0us/step\n"
          ]
        }
      ]
    },
    {
      "cell_type": "code",
      "source": [
        "permutation = np.random.permutation(x_train.shape[0])\n",
        "x_train_shuffled = x_train[permutation]\n",
        "y_train_shuffled = y_train[permutation]\n",
        "permutation = np.random.permutation(x_test.shape[0])\n",
        "x_test_shuffled = x_test[permutation]\n",
        "y_test_shuffled = y_test[permutation]"
      ],
      "metadata": {
        "id": "WAMlP9DTU-RA"
      },
      "execution_count": 4,
      "outputs": []
    },
    {
      "cell_type": "code",
      "source": [
        "x_train_shuffled.shape"
      ],
      "metadata": {
        "colab": {
          "base_uri": "https://localhost:8080/"
        },
        "id": "NDQPHKnVVJXm",
        "outputId": "48c2b0cd-3122-41c2-ac7c-10a7256bb4d4"
      },
      "execution_count": 5,
      "outputs": [
        {
          "output_type": "execute_result",
          "data": {
            "text/plain": [
              "(60000, 28, 28)"
            ]
          },
          "metadata": {},
          "execution_count": 5
        }
      ]
    },
    {
      "cell_type": "code",
      "source": [
        "x_test_shuffled.shape"
      ],
      "metadata": {
        "colab": {
          "base_uri": "https://localhost:8080/"
        },
        "id": "HJ7Nrw2TVOkm",
        "outputId": "02f2e12c-6bce-49d2-8002-196f4696bb2c"
      },
      "execution_count": 6,
      "outputs": [
        {
          "output_type": "execute_result",
          "data": {
            "text/plain": [
              "(10000, 28, 28)"
            ]
          },
          "metadata": {},
          "execution_count": 6
        }
      ]
    },
    {
      "cell_type": "code",
      "source": [
        "plt.imshow(x_train_shuffled[0])"
      ],
      "metadata": {
        "colab": {
          "base_uri": "https://localhost:8080/",
          "height": 447
        },
        "id": "CtwET-cQVTb2",
        "outputId": "c6c6173f-a9df-4eba-b8fd-bf0b7ee328a4"
      },
      "execution_count": 7,
      "outputs": [
        {
          "output_type": "execute_result",
          "data": {
            "text/plain": [
              "<matplotlib.image.AxesImage at 0x787a02fa7df0>"
            ]
          },
          "metadata": {},
          "execution_count": 7
        },
        {
          "output_type": "display_data",
          "data": {
            "text/plain": [
              "<Figure size 640x480 with 1 Axes>"
            ],
            "image/png": "[encoded data removed]"
          },
          "metadata": {}
        }
      ]
    },
    {
      "cell_type": "code",
      "source": [
        "plt.imshow(x_train_shuffled[0],cmap=plt.cm.binary)"
      ],
      "metadata": {
        "colab": {
          "base_uri": "https://localhost:8080/",
          "height": 447
        },
        "id": "mluWAm3JVYxd",
        "outputId": "fccced0b-e743-419d-f5ce-b49136c0a87a"
      },
      "execution_count": 9,
      "outputs": [
        {
          "output_type": "execute_result",
          "data": {
            "text/plain": [
              "<matplotlib.image.AxesImage at 0x78796d8430d0>"
            ]
          },
          "metadata": {},
          "execution_count": 9
        },
        {
          "output_type": "display_data",
          "data": {
            "text/plain": [
              "<Figure size 640x480 with 1 Axes>"
            ],
            "image/png": "[encoded data removed]"
          },
          "metadata": {}
        }
      ]
    },
    {
      "cell_type": "code",
      "source": [
        "print(x_train_shuffled[0])"
      ],
      "metadata": {
        "colab": {
          "base_uri": "https://localhost:8080/"
        },
        "id": "G-l3y-03VdUn",
        "outputId": "9e41736e-285b-4645-a46c-dd3f5b9784b4"
      },
      "execution_count": 10,
      "outputs": [
        {
          "output_type": "stream",
          "name": "stdout",
          "text": [
            "[[  0   0   0   0   0   0   0   0   0   0   0   0   0   0   0   0   0   0\n",
            "    0   0   0   0   0   0   0   0   0   0]\n",
            " [  0   0   0   0   0   0   0   0   0   0   0   0   0   0   0   0   0   0\n",
            "    0   0   0   0   0   0   0   0   0   0]\n",
            " [  0   0   0   0   0   0   0   0   0   0   0   0   0   0   0   0   0   0\n",
            "    0   0   0   0   0   0   0   0   0   0]\n",
            " [  0   0   0   0   0   0   0   0   0   0   0   0   0   0   0   0   0   0\n",
            "    0   0   0   0   0   0   0   0   0   0]\n",
            " [  0   0   0   0   0   0   0   0   0   0   0   0   0   0   0   0   0   0\n",
            "    0   0   0   0   0   0   0   0   0   0]\n",
            " [  0   0   0   0   0   0   0   0   0   0   0   0   0   0   0   0   0   0\n",
            "    0  77 226 120   0   0   0   0   0   0]\n",
            " [  0   0   0   0   0   0   0   0   0   0  17 149  50   0   0   0   0   0\n",
            "    0 129 251  76   0   0   0   0   0   0]\n",
            " [  0   0   0   0   0   0   0   0   0   0 130 254 115   0   0   0   0   0\n",
            "   18 233 174   0   0   0   0   0   0   0]\n",
            " [  0   0   0   0   0   0   0   0   0   0 217 254  68   0   0   0   0   0\n",
            "  157 253  82   0   0   0   0   0   0   0]\n",
            " [  0   0   0   0   0   0   0   0   0  82 247 166   5   0   0   0   0  41\n",
            "  228 160   0   0   0   0   0   0   0   0]\n",
            " [  0   0   0   0   0   0   0   0  31 247 239  34   0   0   0   0   0 206\n",
            "  246  75   0   0   0   0   0   0   0   0]\n",
            " [  0   0   0   0   0   0   0   0 154 254 119   0   0   0   0   0  78 244\n",
            "  151   0   0   0   0   0   0   0   0   0]\n",
            " [  0   0   0   0   0   0   0   0 220 254  25   0   0   0   0   3 212 252\n",
            "   72   0   0   0   0   0   0   0   0   0]\n",
            " [  0   0   0   0   0   0   0   0 143 254 178   0   0   0   0  43 254 202\n",
            "    0   0   0   0   0   0   0   0   0   0]\n",
            " [  0   0   0   0   0   0   0   0  10 188 254 177  56  12  30 233 254 168\n",
            "  123   6   0   0   0   0   0   0   0   0]\n",
            " [  0   0   0   0   0   0   0   0   0  15 192 254 254 217 215 254 254 254\n",
            "  156   6   0   0   0   0   0   0   0   0]\n",
            " [  0   0   0   0   0   0   0   0   0   0  12 128 194 241 254 254 217 188\n",
            "   32   0   0   0   0   0   0   0   0   0]\n",
            " [  0   0   0   0   0   0   0   0   0   0   0   0   0 195 254 205  15   0\n",
            "    0   0   0   0   0   0   0   0   0   0]\n",
            " [  0   0   0   0   0   0   0   0   0   0   0   0  12 212 241  69   0   0\n",
            "    0   0   0   0   0   0   0   0   0   0]\n",
            " [  0   0   0   0   0   0   0   0   0   0   0   0  90 255 155   0   0   0\n",
            "    0   0   0   0   0   0   0   0   0   0]\n",
            " [  0   0   0   0   0   0   0   0   0   0   0   0 172 224  32   0   0   0\n",
            "    0   0   0   0   0   0   0   0   0   0]\n",
            " [  0   0   0   0   0   0   0   0   0   0   0 132 253 145   0   0   0   0\n",
            "    0   0   0   0   0   0   0   0   0   0]\n",
            " [  0   0   0   0   0   0   0   0   0   0   0 185 224  15   0   0   0   0\n",
            "    0   0   0   0   0   0   0   0   0   0]\n",
            " [  0   0   0   0   0   0   0   0   0   0  18 225 237  34   0   0   0   0\n",
            "    0   0   0   0   0   0   0   0   0   0]\n",
            " [  0   0   0   0   0   0   0   0   0   0  19 227 199  36   0   0   0   0\n",
            "    0   0   0   0   0   0   0   0   0   0]\n",
            " [  0   0   0   0   0   0   0   0   0   0   0   0   0   0   0   0   0   0\n",
            "    0   0   0   0   0   0   0   0   0   0]\n",
            " [  0   0   0   0   0   0   0   0   0   0   0   0   0   0   0   0   0   0\n",
            "    0   0   0   0   0   0   0   0   0   0]\n",
            " [  0   0   0   0   0   0   0   0   0   0   0   0   0   0   0   0   0   0\n",
            "    0   0   0   0   0   0   0   0   0   0]]\n"
          ]
        }
      ]
    },
    {
      "cell_type": "code",
      "source": [],
      "metadata": {
        "id": "CJ5PssVuVlG4"
      },
      "execution_count": null,
      "outputs": []
    },
    {
      "cell_type": "markdown",
      "source": [
        "# *Normalizing the dataset*"
      ],
      "metadata": {
        "id": "oc-o2DoTVrdr"
      }
    },
    {
      "cell_type": "code",
      "source": [
        "X_train=tf.keras.utils.normalize(x_train_shuffled)\n",
        "X_test=tf.keras.utils.normalize(x_test_shuffled)"
      ],
      "metadata": {
        "id": "uWzqsNqeVxdh"
      },
      "execution_count": 11,
      "outputs": []
    },
    {
      "cell_type": "code",
      "source": [
        "plt.imshow(X_train[0],cmap=plt.cm.binary)"
      ],
      "metadata": {
        "colab": {
          "base_uri": "https://localhost:8080/",
          "height": 447
        },
        "id": "5YPwSzDvV8cS",
        "outputId": "97d0e65a-cfbd-436c-936d-7ddcfdba2d0c"
      },
      "execution_count": 12,
      "outputs": [
        {
          "output_type": "execute_result",
          "data": {
            "text/plain": [
              "<matplotlib.image.AxesImage at 0x78796d6b2260>"
            ]
          },
          "metadata": {},
          "execution_count": 12
        },
        {
          "output_type": "display_data",
          "data": {
            "text/plain": [
              "<Figure size 640x480 with 1 Axes>"
            ],
            "image/png": "[encoded data removed]"
          },
          "metadata": {}
        }
      ]
    },
    {
      "cell_type": "code",
      "source": [
        "print(X_train[0])"
      ],
      "metadata": {
        "colab": {
          "base_uri": "https://localhost:8080/"
        },
        "id": "PwDpBUQiV_1G",
        "outputId": "019e5c2b-95bf-429a-8371-0cc4d465aa3e"
      },
      "execution_count": 13,
      "outputs": [
        {
          "output_type": "stream",
          "name": "stdout",
          "text": [
            "[[0.         0.         0.         0.         0.         0.\n",
            "  0.         0.         0.         0.         0.         0.\n",
            "  0.         0.         0.         0.         0.         0.\n",
            "  0.         0.         0.         0.         0.         0.\n",
            "  0.         0.         0.         0.        ]\n",
            " [0.         0.         0.         0.         0.         0.\n",
            "  0.         0.         0.         0.         0.         0.\n",
            "  0.         0.         0.         0.         0.         0.\n",
            "  0.         0.         0.         0.         0.         0.\n",
            "  0.         0.         0.         0.        ]\n",
            " [0.         0.         0.         0.         0.         0.\n",
            "  0.         0.         0.         0.         0.         0.\n",
            "  0.         0.         0.         0.         0.         0.\n",
            "  0.         0.         0.         0.         0.         0.\n",
            "  0.         0.         0.         0.        ]\n",
            " [0.         0.         0.         0.         0.         0.\n",
            "  0.         0.         0.         0.         0.         0.\n",
            "  0.         0.         0.         0.         0.         0.\n",
            "  0.         0.         0.         0.         0.         0.\n",
            "  0.         0.         0.         0.        ]\n",
            " [0.         0.         0.         0.         0.         0.\n",
            "  0.         0.         0.         0.         0.         0.\n",
            "  0.         0.         0.         0.         0.         0.\n",
            "  0.         0.         0.         0.         0.         0.\n",
            "  0.         0.         0.         0.        ]\n",
            " [0.         0.         0.         0.         0.         0.\n",
            "  0.         0.         0.         0.         0.         0.\n",
            "  0.         0.         0.         0.         0.         0.\n",
            "  0.         0.28815517 0.84575413 0.44907299 0.         0.\n",
            "  0.         0.         0.         0.        ]\n",
            " [0.         0.         0.         0.         0.         0.\n",
            "  0.         0.         0.         0.         0.05116213 0.44842106\n",
            "  0.15047686 0.         0.         0.         0.         0.\n",
            "  0.         0.38823031 0.75539386 0.22872483 0.         0.\n",
            "  0.         0.         0.         0.        ]\n",
            " [0.         0.         0.         0.         0.         0.\n",
            "  0.         0.         0.         0.         0.30681376 0.59946689\n",
            "  0.27141217 0.         0.         0.         0.         0.\n",
            "  0.04248191 0.54990467 0.41065842 0.         0.         0.\n",
            "  0.         0.         0.         0.        ]\n",
            " [0.         0.         0.         0.         0.         0.\n",
            "  0.         0.         0.         0.         0.47172687 0.55215956\n",
            "  0.14782224 0.         0.         0.         0.         0.\n",
            "  0.34129548 0.5499857  0.17825624 0.         0.         0.\n",
            "  0.         0.         0.         0.        ]\n",
            " [0.         0.         0.         0.         0.         0.\n",
            "  0.         0.         0.         0.1962537  0.59115444 0.39729407\n",
            "  0.01196669 0.         0.         0.         0.         0.09812685\n",
            "  0.54568102 0.38293405 0.         0.         0.         0.\n",
            "  0.         0.         0.         0.        ]\n",
            " [0.         0.         0.         0.         0.         0.\n",
            "  0.         0.         0.06480536 0.51635236 0.4996284  0.07107684\n",
            "  0.         0.         0.         0.         0.         0.43064205\n",
            "  0.51426187 0.15678715 0.         0.         0.         0.\n",
            "  0.         0.         0.         0.        ]\n",
            " [0.         0.         0.         0.         0.         0.\n",
            "  0.         0.         0.35254585 0.58147172 0.27242179 0.\n",
            "  0.         0.         0.         0.         0.17856218 0.55857913\n",
            "  0.34567807 0.         0.         0.         0.         0.\n",
            "  0.         0.         0.         0.        ]\n",
            " [0.         0.         0.         0.         0.         0.\n",
            "  0.         0.         0.46156803 0.53290127 0.05245091 0.\n",
            "  0.         0.         0.         0.00629411 0.44478374 0.5287052\n",
            "  0.15105863 0.         0.         0.         0.         0.\n",
            "  0.         0.         0.         0.        ]\n",
            " [0.         0.         0.         0.         0.         0.\n",
            "  0.         0.         0.30226547 0.53689111 0.37624652 0.\n",
            "  0.         0.         0.         0.09089101 0.53689111 0.42697639\n",
            "  0.         0.         0.         0.         0.         0.\n",
            "  0.         0.         0.         0.        ]\n",
            " [0.         0.         0.         0.         0.         0.\n",
            "  0.         0.         0.01832895 0.34458425 0.46555532 0.3244224\n",
            "  0.10264212 0.02199474 0.05498685 0.42706452 0.46555532 0.30792635\n",
            "  0.22544608 0.01099737 0.         0.         0.         0.\n",
            "  0.         0.         0.         0.        ]\n",
            " [0.         0.         0.         0.         0.         0.\n",
            "  0.         0.         0.         0.02171053 0.27789485 0.36763172\n",
            "  0.36763172 0.31407907 0.31118433 0.36763172 0.36763172 0.36763172\n",
            "  0.22578956 0.00868421 0.         0.         0.         0.\n",
            "  0.         0.         0.         0.        ]\n",
            " [0.         0.         0.         0.         0.         0.\n",
            "  0.         0.         0.         0.         0.02105801 0.22461879\n",
            "  0.34043786 0.42291507 0.44572792 0.44572792 0.38079905 0.32990885\n",
            "  0.0561547  0.         0.         0.         0.         0.\n",
            "  0.         0.         0.         0.        ]\n",
            " [0.         0.         0.         0.         0.         0.\n",
            "  0.         0.         0.         0.         0.         0.\n",
            "  0.         0.51246455 0.66751793 0.53874478 0.03942035 0.\n",
            "  0.         0.         0.         0.         0.         0.\n",
            "  0.         0.         0.         0.        ]\n",
            " [0.         0.         0.         0.         0.         0.\n",
            "  0.         0.         0.         0.         0.         0.\n",
            "  0.03652668 0.64530462 0.73357742 0.21002839 0.         0.\n",
            "  0.         0.         0.         0.         0.         0.\n",
            "  0.         0.         0.         0.        ]\n",
            " [0.         0.         0.         0.         0.         0.\n",
            "  0.         0.         0.         0.         0.         0.\n",
            "  0.28874941 0.81812333 0.49729065 0.         0.         0.\n",
            "  0.         0.         0.         0.         0.         0.\n",
            "  0.         0.         0.         0.        ]\n",
            " [0.         0.         0.         0.         0.         0.\n",
            "  0.         0.         0.         0.         0.         0.\n",
            "  0.60515381 0.78810728 0.11258675 0.         0.         0.\n",
            "  0.         0.         0.         0.         0.         0.\n",
            "  0.         0.         0.         0.        ]\n",
            " [0.         0.         0.         0.         0.         0.\n",
            "  0.         0.         0.         0.         0.         0.41238323\n",
            "  0.79040119 0.45299673 0.         0.         0.         0.\n",
            "  0.         0.         0.         0.         0.         0.\n",
            "  0.         0.         0.         0.        ]\n",
            " [0.         0.         0.         0.         0.         0.\n",
            "  0.         0.         0.         0.         0.         0.63594539\n",
            "  0.77000955 0.05156314 0.         0.         0.         0.\n",
            "  0.         0.         0.         0.         0.         0.\n",
            "  0.         0.         0.         0.        ]\n",
            " [0.         0.         0.         0.         0.         0.\n",
            "  0.         0.         0.         0.         0.05470291 0.68378635\n",
            "  0.72025496 0.10332772 0.         0.         0.         0.\n",
            "  0.         0.         0.         0.         0.         0.\n",
            "  0.         0.         0.         0.        ]\n",
            " [0.         0.         0.         0.         0.         0.\n",
            "  0.         0.         0.         0.         0.06237492 0.74521621\n",
            "  0.65329526 0.11818407 0.         0.         0.         0.\n",
            "  0.         0.         0.         0.         0.         0.\n",
            "  0.         0.         0.         0.        ]\n",
            " [0.         0.         0.         0.         0.         0.\n",
            "  0.         0.         0.         0.         0.         0.\n",
            "  0.         0.         0.         0.         0.         0.\n",
            "  0.         0.         0.         0.         0.         0.\n",
            "  0.         0.         0.         0.        ]\n",
            " [0.         0.         0.         0.         0.         0.\n",
            "  0.         0.         0.         0.         0.         0.\n",
            "  0.         0.         0.         0.         0.         0.\n",
            "  0.         0.         0.         0.         0.         0.\n",
            "  0.         0.         0.         0.        ]\n",
            " [0.         0.         0.         0.         0.         0.\n",
            "  0.         0.         0.         0.         0.         0.\n",
            "  0.         0.         0.         0.         0.         0.\n",
            "  0.         0.         0.         0.         0.         0.\n",
            "  0.         0.         0.         0.        ]]\n"
          ]
        }
      ]
    },
    {
      "cell_type": "code",
      "source": [],
      "metadata": {
        "id": "K_pZ1nd1WDR6"
      },
      "execution_count": null,
      "outputs": []
    },
    {
      "cell_type": "markdown",
      "source": [
        "# *Resizing the images*"
      ],
      "metadata": {
        "id": "Ozm2az3eWHNc"
      }
    },
    {
      "cell_type": "code",
      "source": [
        "image_Size=28\n",
        "X_train_resized=np.array(X_train).reshape(-1,image_Size,image_Size,1)\n",
        "X_test_resized=np.array(X_test).reshape(-1,image_Size,image_Size,1)"
      ],
      "metadata": {
        "id": "NP4lyqbPWKr5"
      },
      "execution_count": 14,
      "outputs": []
    },
    {
      "cell_type": "code",
      "source": [
        "print(X_train_resized.shape)\n",
        "print(X_test_resized.shape)"
      ],
      "metadata": {
        "colab": {
          "base_uri": "https://localhost:8080/"
        },
        "id": "0hOgj6YPWOXA",
        "outputId": "c00e6199-18d1-436f-c235-fd430aa1da34"
      },
      "execution_count": 15,
      "outputs": [
        {
          "output_type": "stream",
          "name": "stdout",
          "text": [
            "(60000, 28, 28, 1)\n",
            "(10000, 28, 28, 1)\n"
          ]
        }
      ]
    },
    {
      "cell_type": "code",
      "source": [],
      "metadata": {
        "id": "kv9nXHXmWQiw"
      },
      "execution_count": null,
      "outputs": []
    },
    {
      "cell_type": "markdown",
      "source": [
        "# *Creating CNN*"
      ],
      "metadata": {
        "id": "P378vsklWS9r"
      }
    },
    {
      "cell_type": "code",
      "source": [
        "model=Sequential()"
      ],
      "metadata": {
        "id": "0P2eaesHWXEY"
      },
      "execution_count": 16,
      "outputs": []
    },
    {
      "cell_type": "code",
      "source": [
        "model.add(Conv2D(64, (3, 3), activation='relu', kernel_initializer='he_uniform', input_shape=X_train_resized.shape[1:]))\n",
        "model.add(MaxPooling2D(pool_size=(2, 2)))\n",
        "# Second Conv Layer\n",
        "model.add(Conv2D(64, (3, 3), activation='relu'))\n",
        "model.add(MaxPooling2D(pool_size=(2, 2)))\n",
        "# Third Conv Layer\n",
        "model.add(Conv2D(64, (3, 3), activation='relu'))\n",
        "model.add(MaxPooling2D(pool_size=(2, 2)))\n",
        "#Dense Layer1\n",
        "model.add(Flatten())\n",
        "model.add(Dense(64))\n",
        "model.add(Activation(tf.nn.relu))\n",
        "#Dense Layer2\n",
        "model.add(Dense(32))\n",
        "model.add(Activation(tf.nn.relu))\n",
        "#Dense Layer3\n",
        "model.add(Dense(10))\n",
        "model.add(Activation(tf.nn.softmax))"
      ],
      "metadata": {
        "id": "U5QRu9kAWZUF"
      },
      "execution_count": 18,
      "outputs": []
    },
    {
      "cell_type": "code",
      "source": [
        "model.summary()"
      ],
      "metadata": {
        "colab": {
          "base_uri": "https://localhost:8080/"
        },
        "id": "Q_AuJu8qW8ze",
        "outputId": "0bb38567-e584-49d6-c84e-ad9e5a2a7da5"
      },
      "execution_count": 19,
      "outputs": [
        {
          "output_type": "stream",
          "name": "stdout",
          "text": [
            "Model: \"sequential\"\n",
            "_________________________________________________________________\n",
            " Layer (type)                Output Shape              Param #   \n",
            "=================================================================\n",
            " conv2d (Conv2D)             (None, 26, 26, 64)        640       \n",
            "                                                                 \n",
            " max_pooling2d (MaxPooling2D  (None, 13, 13, 64)       0         \n",
            " )                                                               \n",
            "                                                                 \n",
            " conv2d_1 (Conv2D)           (None, 11, 11, 64)        36928     \n",
            "                                                                 \n",
            " max_pooling2d_1 (MaxPooling  (None, 5, 5, 64)         0         \n",
            " 2D)                                                             \n",
            "                                                                 \n",
            " conv2d_2 (Conv2D)           (None, 3, 3, 64)          36928     \n",
            "                                                                 \n",
            " max_pooling2d_2 (MaxPooling  (None, 1, 1, 64)         0         \n",
            " 2D)                                                             \n",
            "                                                                 \n",
            " flatten (Flatten)           (None, 64)                0         \n",
            "                                                                 \n",
            " dense (Dense)               (None, 64)                4160      \n",
            "                                                                 \n",
            " activation (Activation)     (None, 64)                0         \n",
            "                                                                 \n",
            " dense_1 (Dense)             (None, 32)                2080      \n",
            "                                                                 \n",
            " activation_1 (Activation)   (None, 32)                0         \n",
            "                                                                 \n",
            " dense_2 (Dense)             (None, 10)                330       \n",
            "                                                                 \n",
            " activation_2 (Activation)   (None, 10)                0         \n",
            "                                                                 \n",
            "=================================================================\n",
            "Total params: 81,066\n",
            "Trainable params: 81,066\n",
            "Non-trainable params: 0\n",
            "_________________________________________________________________\n"
          ]
        }
      ]
    },
    {
      "cell_type": "code",
      "source": [],
      "metadata": {
        "id": "mfL32SIVXCVX"
      },
      "execution_count": null,
      "outputs": []
    },
    {
      "cell_type": "markdown",
      "source": [
        "# *Model Training*"
      ],
      "metadata": {
        "id": "-ROEWCPMXE7X"
      }
    },
    {
      "cell_type": "code",
      "source": [
        "model.compile(optimizer='adam', loss='sparse_categorical_crossentropy', metrics=['accuracy'])"
      ],
      "metadata": {
        "id": "8Xtpm5pWXL9G"
      },
      "execution_count": 20,
      "outputs": []
    },
    {
      "cell_type": "code",
      "source": [
        "model.fit(X_train_resized,y_train_shuffled,epochs=15)"
      ],
      "metadata": {
        "colab": {
          "base_uri": "https://localhost:8080/"
        },
        "id": "bCl5JqDKXPIw",
        "outputId": "57d9436c-f387-4d61-b36e-923de0b2da5b"
      },
      "execution_count": 24,
      "outputs": [
        {
          "output_type": "stream",
          "name": "stdout",
          "text": [
            "Epoch 1/15\n",
            "1875/1875 [==============================] - 106s 56ms/step - loss: 0.0338 - accuracy: 0.9903\n",
            "Epoch 2/15\n",
            "1875/1875 [==============================] - 107s 57ms/step - loss: 0.0211 - accuracy: 0.9933\n",
            "Epoch 3/15\n",
            "1875/1875 [==============================] - 106s 56ms/step - loss: 0.0180 - accuracy: 0.9943\n",
            "Epoch 4/15\n",
            "1875/1875 [==============================] - 105s 56ms/step - loss: 0.0144 - accuracy: 0.9956\n",
            "Epoch 5/15\n",
            "1875/1875 [==============================] - 106s 57ms/step - loss: 0.0156 - accuracy: 0.9955\n",
            "Epoch 6/15\n",
            "1875/1875 [==============================] - 110s 59ms/step - loss: 0.0132 - accuracy: 0.9954\n",
            "Epoch 7/15\n",
            "1875/1875 [==============================] - 107s 57ms/step - loss: 0.0133 - accuracy: 0.9957\n",
            "Epoch 8/15\n",
            "1875/1875 [==============================] - 107s 57ms/step - loss: 0.0107 - accuracy: 0.9967\n",
            "Epoch 9/15\n",
            "1875/1875 [==============================] - 105s 56ms/step - loss: 0.0123 - accuracy: 0.9960\n",
            "Epoch 10/15\n",
            "1875/1875 [==============================] - 107s 57ms/step - loss: 0.0109 - accuracy: 0.9963\n",
            "Epoch 11/15\n",
            "1875/1875 [==============================] - 105s 56ms/step - loss: 0.0104 - accuracy: 0.9968\n",
            "Epoch 12/15\n",
            "1875/1875 [==============================] - 104s 55ms/step - loss: 0.0105 - accuracy: 0.9966\n",
            "Epoch 13/15\n",
            "1875/1875 [==============================] - 104s 55ms/step - loss: 0.0101 - accuracy: 0.9969\n",
            "Epoch 14/15\n",
            "1875/1875 [==============================] - 105s 56ms/step - loss: 0.0092 - accuracy: 0.9973\n",
            "Epoch 15/15\n",
            "1875/1875 [==============================] - 104s 55ms/step - loss: 0.0081 - accuracy: 0.9978\n"
          ]
        },
        {
          "output_type": "execute_result",
          "data": {
            "text/plain": [
              "<keras.callbacks.History at 0x787935405840>"
            ]
          },
          "metadata": {},
          "execution_count": 24
        }
      ]
    },
    {
      "cell_type": "code",
      "source": [],
      "metadata": {
        "id": "pPYunJThXTNA"
      },
      "execution_count": null,
      "outputs": []
    },
    {
      "cell_type": "markdown",
      "source": [
        "#*Model Evaluation*"
      ],
      "metadata": {
        "id": "208sNUlhXy_4"
      }
    },
    {
      "cell_type": "code",
      "source": [
        "test_loss,test_acc = model.evaluate(X_test_resized,y_test_shuffled)\n",
        "print(test_loss)\n",
        "print(test_acc)"
      ],
      "metadata": {
        "colab": {
          "base_uri": "https://localhost:8080/"
        },
        "id": "scIVi8LFX3bJ",
        "outputId": "93fbfb43-8f49-49f5-adf7-314ac7979264"
      },
      "execution_count": 25,
      "outputs": [
        {
          "output_type": "stream",
          "name": "stdout",
          "text": [
            "313/313 [==============================] - 6s 19ms/step - loss: 0.0940 - accuracy: 0.9835\n",
            "0.09404899179935455\n",
            "0.9835000038146973\n"
          ]
        }
      ]
    },
    {
      "cell_type": "code",
      "source": [
        "prediction=model.predict([X_test_resized])"
      ],
      "metadata": {
        "colab": {
          "base_uri": "https://localhost:8080/"
        },
        "id": "4iDkSgajYKk0",
        "outputId": "f48ddddb-4637-455e-b5dc-5246d39f89c4"
      },
      "execution_count": 26,
      "outputs": [
        {
          "output_type": "stream",
          "name": "stdout",
          "text": [
            "313/313 [==============================] - 8s 24ms/step\n"
          ]
        }
      ]
    },
    {
      "cell_type": "code",
      "source": [
        "print(prediction)"
      ],
      "metadata": {
        "colab": {
          "base_uri": "https://localhost:8080/"
        },
        "id": "3pT2-kbLYX9H",
        "outputId": "4497ebd4-f37f-45e8-ef00-fdd00d50572c"
      },
      "execution_count": 27,
      "outputs": [
        {
          "output_type": "stream",
          "name": "stdout",
          "text": [
            "[[1.04168031e-12 6.16127327e-09 1.72120917e-15 ... 2.31425786e-16\n",
            "  2.33279991e-07 2.48679660e-10]\n",
            " [5.69554525e-15 9.15587273e-10 6.22331072e-07 ... 9.99999344e-01\n",
            "  1.36952776e-11 1.33485312e-08]\n",
            " [1.32503860e-28 7.96703760e-24 1.19173824e-19 ... 7.71609689e-29\n",
            "  9.99999940e-01 3.41037444e-22]\n",
            " ...\n",
            " [8.04546939e-16 9.99999940e-01 4.07605590e-12 ... 2.19637117e-14\n",
            "  1.88457056e-10 1.50551669e-18]\n",
            " [2.64571542e-09 9.99967515e-01 4.14626555e-09 ... 3.15077492e-10\n",
            "  4.85918065e-07 6.74450784e-13]\n",
            " [1.21244540e-13 1.47925546e-18 9.99999940e-01 ... 2.42744103e-10\n",
            "  6.81878590e-15 3.75418067e-19]]\n"
          ]
        }
      ]
    },
    {
      "cell_type": "code",
      "source": [
        "print(np.argmax(prediction[0]))"
      ],
      "metadata": {
        "colab": {
          "base_uri": "https://localhost:8080/"
        },
        "id": "pQk7tqm-Ygz0",
        "outputId": "deb87cfc-3270-4191-85f6-b4696b8ef3ce"
      },
      "execution_count": 28,
      "outputs": [
        {
          "output_type": "stream",
          "name": "stdout",
          "text": [
            "6\n"
          ]
        }
      ]
    },
    {
      "cell_type": "code",
      "source": [
        "print(plt.imshow(x_test_shuffled[0]))"
      ],
      "metadata": {
        "colab": {
          "base_uri": "https://localhost:8080/",
          "height": 447
        },
        "id": "sHX4LrZPYkw_",
        "outputId": "1d38cd79-0783-4468-e7ae-28bbd178b889"
      },
      "execution_count": 29,
      "outputs": [
        {
          "output_type": "stream",
          "name": "stdout",
          "text": [
            "AxesImage(size=(28, 28))\n"
          ]
        },
        {
          "output_type": "display_data",
          "data": {
            "text/plain": [
              "<Figure size 640x480 with 1 Axes>"
            ],
            "image/png": "[encoded data removed]"
          },
          "metadata": {}
        }
      ]
    },
    {
      "cell_type": "markdown",
      "source": [
        "# *Saving Model*"
      ],
      "metadata": {
        "id": "4KtW5LWzYpg-"
      }
    },
    {
      "cell_type": "code",
      "source": [
        "model.save('Trained_model_cnn.h5')"
      ],
      "metadata": {
        "id": "raiwY3xPYyaE"
      },
      "execution_count": 31,
      "outputs": []
    },
    {
      "cell_type": "code",
      "source": [],
      "metadata": {
        "id": "SpTy8a36lReN"
      },
      "execution_count": null,
      "outputs": []
    }
  ]
}